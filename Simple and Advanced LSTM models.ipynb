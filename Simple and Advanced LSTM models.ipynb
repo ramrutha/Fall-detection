{
 "cells": [
  {
   "cell_type": "code",
   "execution_count": 595,
   "metadata": {},
   "outputs": [],
   "source": [
    "import pandas as pd\n",
    "import numpy as np"
   ]
  },
  {
   "cell_type": "markdown",
   "metadata": {},
   "source": [
    "## Get data for training and testing ready"
   ]
  },
  {
   "cell_type": "code",
   "execution_count": 596,
   "metadata": {},
   "outputs": [],
   "source": [
    "#Path on my system to training data\n",
    "train_path = \"./../Datasets/Fall examples/Fall examples/Farseeing/Data/Train/\""
   ]
  },
  {
   "cell_type": "code",
   "execution_count": 597,
   "metadata": {},
   "outputs": [
    {
     "name": "stdout",
     "output_type": "stream",
     "text": [
      "./../Datasets/Fall examples/Fall examples/Farseeing/Data/Train/F_04835861-01-2013-10-16-13-19-35.csv\n",
      "./../Datasets/Fall examples/Fall examples/Farseeing/Data/Train/F_17744725-01-2009-02-24-16-26-44.csv\n",
      "./../Datasets/Fall examples/Fall examples/Farseeing/Data/Train/F_20983985-01-2013-05-16-16-16-00.csv\n",
      "./../Datasets/Fall examples/Fall examples/Farseeing/Data/Train/F_23112025-01-2013-05-21-06-21-54.csv\n",
      "./../Datasets/Fall examples/Fall examples/Farseeing/Data/Train/F_36551836-01-2013-05-21-17-39-57.csv\n",
      "./../Datasets/Fall examples/Fall examples/Farseeing/Data/Train/F_38243026-05-2009-04-29-08-53-16.csv\n",
      "./../Datasets/Fall examples/Fall examples/Farseeing/Data/Train/F_42990421-03a-2011-03-23-16-50-02.csv\n",
      "./../Datasets/Fall examples/Fall examples/Farseeing/Data/Train/F_47451392-01-2014-01-22-22-42-34.csv\n",
      "./../Datasets/Fall examples/Fall examples/Farseeing/Data/Train/F_63414187-01-2013-05-30-22-48-27.csv\n",
      "./../Datasets/Fall examples/Fall examples/Farseeing/Data/Train/F_67458491-01-2013-11-07-12-36-22.csv\n",
      "./../Datasets/Fall examples/Fall examples/Farseeing/Data/Train/F_74827807-04-2009-02-09-22-39-54.csv\n",
      "./../Datasets/Fall examples/Fall examples/Farseeing/Data/Train/F_79761947-03-2012-06-24-02-09-34.csv\n",
      "./../Datasets/Fall examples/Fall examples/Farseeing/Data/Train/F_91943076-01-2009-02-26-12-42-02.csv\n",
      "./../Datasets/Fall examples/Fall examples/Farseeing/Data/Train/F_91943076-02-2009-02-26-22-15-13.csv\n",
      "./../Datasets/Fall examples/Fall examples/Farseeing/Data/Train/F_96201346-01-2011-05-18-18-57-16.csv\n",
      "./../Datasets/Fall examples/Fall examples/Farseeing/Data/Train/F_96201346-05-2011-06-03-22-36-07.csv\n"
     ]
    }
   ],
   "source": [
    "#Read all training data files\n",
    "from os import walk\n",
    "\n",
    "data_for_fall=[]\n",
    "\n",
    "for (dirpath, dirnames, filenames) in walk(train_path):\n",
    "    \n",
    "    for file in filenames:\n",
    "        print(dirpath+file)\n",
    "        data = pd.read_csv(dirpath+file)\n",
    "        data.columns = ['Time','Rel_Time','Acc_X','Acc_Y','Acc_Z','Mg_X','Mg_Y','Mg_Z','Ang_X','Ang_Y','Ang_Z','Fall_indicator']\n",
    "        data_for_fall.append(data)"
   ]
  },
  {
   "cell_type": "code",
   "execution_count": 598,
   "metadata": {},
   "outputs": [
    {
     "data": {
      "text/html": [
       "<div>\n",
       "<style scoped>\n",
       "    .dataframe tbody tr th:only-of-type {\n",
       "        vertical-align: middle;\n",
       "    }\n",
       "\n",
       "    .dataframe tbody tr th {\n",
       "        vertical-align: top;\n",
       "    }\n",
       "\n",
       "    .dataframe thead th {\n",
       "        text-align: right;\n",
       "    }\n",
       "</style>\n",
       "<table border=\"1\" class=\"dataframe\">\n",
       "  <thead>\n",
       "    <tr style=\"text-align: right;\">\n",
       "      <th></th>\n",
       "      <th>Time</th>\n",
       "      <th>Rel_Time</th>\n",
       "      <th>Acc_X</th>\n",
       "      <th>Acc_Y</th>\n",
       "      <th>Acc_Z</th>\n",
       "      <th>Mg_X</th>\n",
       "      <th>Mg_Y</th>\n",
       "      <th>Mg_Z</th>\n",
       "      <th>Ang_X</th>\n",
       "      <th>Ang_Y</th>\n",
       "      <th>Ang_Z</th>\n",
       "      <th>Fall_indicator</th>\n",
       "    </tr>\n",
       "  </thead>\n",
       "  <tbody>\n",
       "    <tr>\n",
       "      <th>0</th>\n",
       "      <td>184020.0</td>\n",
       "      <td>735520.0</td>\n",
       "      <td>2.0243</td>\n",
       "      <td>-8.4086</td>\n",
       "      <td>-2.95860</td>\n",
       "      <td>0</td>\n",
       "      <td>0</td>\n",
       "      <td>0</td>\n",
       "      <td>0</td>\n",
       "      <td>0</td>\n",
       "      <td>0</td>\n",
       "      <td>0</td>\n",
       "    </tr>\n",
       "    <tr>\n",
       "      <th>1</th>\n",
       "      <td>184020.0</td>\n",
       "      <td>735520.0</td>\n",
       "      <td>2.0243</td>\n",
       "      <td>-8.4086</td>\n",
       "      <td>-2.95860</td>\n",
       "      <td>0</td>\n",
       "      <td>0</td>\n",
       "      <td>0</td>\n",
       "      <td>0</td>\n",
       "      <td>0</td>\n",
       "      <td>0</td>\n",
       "      <td>0</td>\n",
       "    </tr>\n",
       "    <tr>\n",
       "      <th>2</th>\n",
       "      <td>184020.0</td>\n",
       "      <td>735520.0</td>\n",
       "      <td>2.0243</td>\n",
       "      <td>-8.4086</td>\n",
       "      <td>-2.95860</td>\n",
       "      <td>0</td>\n",
       "      <td>0</td>\n",
       "      <td>0</td>\n",
       "      <td>0</td>\n",
       "      <td>0</td>\n",
       "      <td>0</td>\n",
       "      <td>0</td>\n",
       "    </tr>\n",
       "    <tr>\n",
       "      <th>3</th>\n",
       "      <td>184020.0</td>\n",
       "      <td>735520.0</td>\n",
       "      <td>2.0243</td>\n",
       "      <td>-8.4086</td>\n",
       "      <td>-2.95860</td>\n",
       "      <td>0</td>\n",
       "      <td>0</td>\n",
       "      <td>0</td>\n",
       "      <td>0</td>\n",
       "      <td>0</td>\n",
       "      <td>0</td>\n",
       "      <td>0</td>\n",
       "    </tr>\n",
       "    <tr>\n",
       "      <th>4</th>\n",
       "      <td>184020.0</td>\n",
       "      <td>735520.0</td>\n",
       "      <td>2.0243</td>\n",
       "      <td>-8.4086</td>\n",
       "      <td>-2.95860</td>\n",
       "      <td>0</td>\n",
       "      <td>0</td>\n",
       "      <td>0</td>\n",
       "      <td>0</td>\n",
       "      <td>0</td>\n",
       "      <td>0</td>\n",
       "      <td>0</td>\n",
       "    </tr>\n",
       "    <tr>\n",
       "      <th>...</th>\n",
       "      <td>...</td>\n",
       "      <td>...</td>\n",
       "      <td>...</td>\n",
       "      <td>...</td>\n",
       "      <td>...</td>\n",
       "      <td>...</td>\n",
       "      <td>...</td>\n",
       "      <td>...</td>\n",
       "      <td>...</td>\n",
       "      <td>...</td>\n",
       "      <td>...</td>\n",
       "      <td>...</td>\n",
       "    </tr>\n",
       "    <tr>\n",
       "      <th>23995</th>\n",
       "      <td>185220.0</td>\n",
       "      <td>735520.0</td>\n",
       "      <td>8.7200</td>\n",
       "      <td>-1.8686</td>\n",
       "      <td>0.31143</td>\n",
       "      <td>0</td>\n",
       "      <td>0</td>\n",
       "      <td>0</td>\n",
       "      <td>0</td>\n",
       "      <td>0</td>\n",
       "      <td>0</td>\n",
       "      <td>0</td>\n",
       "    </tr>\n",
       "    <tr>\n",
       "      <th>23996</th>\n",
       "      <td>185220.0</td>\n",
       "      <td>735520.0</td>\n",
       "      <td>8.7200</td>\n",
       "      <td>-1.8686</td>\n",
       "      <td>0.31143</td>\n",
       "      <td>0</td>\n",
       "      <td>0</td>\n",
       "      <td>0</td>\n",
       "      <td>0</td>\n",
       "      <td>0</td>\n",
       "      <td>0</td>\n",
       "      <td>0</td>\n",
       "    </tr>\n",
       "    <tr>\n",
       "      <th>23997</th>\n",
       "      <td>185220.0</td>\n",
       "      <td>735520.0</td>\n",
       "      <td>8.7200</td>\n",
       "      <td>-1.8686</td>\n",
       "      <td>0.31143</td>\n",
       "      <td>0</td>\n",
       "      <td>0</td>\n",
       "      <td>0</td>\n",
       "      <td>0</td>\n",
       "      <td>0</td>\n",
       "      <td>0</td>\n",
       "      <td>0</td>\n",
       "    </tr>\n",
       "    <tr>\n",
       "      <th>23998</th>\n",
       "      <td>185220.0</td>\n",
       "      <td>735520.0</td>\n",
       "      <td>8.7200</td>\n",
       "      <td>-1.8686</td>\n",
       "      <td>0.31143</td>\n",
       "      <td>0</td>\n",
       "      <td>0</td>\n",
       "      <td>0</td>\n",
       "      <td>0</td>\n",
       "      <td>0</td>\n",
       "      <td>0</td>\n",
       "      <td>0</td>\n",
       "    </tr>\n",
       "    <tr>\n",
       "      <th>23999</th>\n",
       "      <td>185220.0</td>\n",
       "      <td>735520.0</td>\n",
       "      <td>8.7200</td>\n",
       "      <td>-1.8686</td>\n",
       "      <td>0.31143</td>\n",
       "      <td>0</td>\n",
       "      <td>0</td>\n",
       "      <td>0</td>\n",
       "      <td>0</td>\n",
       "      <td>0</td>\n",
       "      <td>0</td>\n",
       "      <td>0</td>\n",
       "    </tr>\n",
       "  </tbody>\n",
       "</table>\n",
       "<p>24000 rows × 12 columns</p>\n",
       "</div>"
      ],
      "text/plain": [
       "           Time  Rel_Time   Acc_X   Acc_Y    Acc_Z  Mg_X  Mg_Y  Mg_Z  Ang_X  \\\n",
       "0      184020.0  735520.0  2.0243 -8.4086 -2.95860     0     0     0      0   \n",
       "1      184020.0  735520.0  2.0243 -8.4086 -2.95860     0     0     0      0   \n",
       "2      184020.0  735520.0  2.0243 -8.4086 -2.95860     0     0     0      0   \n",
       "3      184020.0  735520.0  2.0243 -8.4086 -2.95860     0     0     0      0   \n",
       "4      184020.0  735520.0  2.0243 -8.4086 -2.95860     0     0     0      0   \n",
       "...         ...       ...     ...     ...      ...   ...   ...   ...    ...   \n",
       "23995  185220.0  735520.0  8.7200 -1.8686  0.31143     0     0     0      0   \n",
       "23996  185220.0  735520.0  8.7200 -1.8686  0.31143     0     0     0      0   \n",
       "23997  185220.0  735520.0  8.7200 -1.8686  0.31143     0     0     0      0   \n",
       "23998  185220.0  735520.0  8.7200 -1.8686  0.31143     0     0     0      0   \n",
       "23999  185220.0  735520.0  8.7200 -1.8686  0.31143     0     0     0      0   \n",
       "\n",
       "       Ang_Y  Ang_Z  Fall_indicator  \n",
       "0          0      0               0  \n",
       "1          0      0               0  \n",
       "2          0      0               0  \n",
       "3          0      0               0  \n",
       "4          0      0               0  \n",
       "...      ...    ...             ...  \n",
       "23995      0      0               0  \n",
       "23996      0      0               0  \n",
       "23997      0      0               0  \n",
       "23998      0      0               0  \n",
       "23999      0      0               0  \n",
       "\n",
       "[24000 rows x 12 columns]"
      ]
     },
     "execution_count": 598,
     "metadata": {},
     "output_type": "execute_result"
    }
   ],
   "source": [
    "#Print one file data in training\n",
    "data_for_fall[0]"
   ]
  },
  {
   "cell_type": "code",
   "execution_count": 599,
   "metadata": {},
   "outputs": [],
   "source": [
    "from scipy import stats\n",
    "#Creates windows of size=20 and steps forward by 1\n",
    "def create_dataset(X, Y, feature_size=20, step_size=1):\n",
    "    window_X, window_Y = [], []\n",
    "    for i in range(0, len(X) - feature_size, step_size):\n",
    "        #Feature size=20 (size of window)\n",
    "        window_data = X.iloc[i:(i + feature_size),:]\n",
    "        #Get all the 20 labels\n",
    "        labels = Y.iloc[i: i + feature_size]\n",
    "        #Append for each 20 sized windows, each stepped forward by 1\n",
    "        window_X.append(window_data)\n",
    "        #Get the max value- If window contains the row that has fall data then window labelled as fall\n",
    "        #The fall indicator can be any value >0 dependng on severity of fall\n",
    "        window_Y.append(labels.max())\n",
    "    return (window_X), np.array(window_Y).reshape(-1, 1)"
   ]
  },
  {
   "cell_type": "code",
   "execution_count": 600,
   "metadata": {},
   "outputs": [],
   "source": [
    "def to_features(data):\n",
    "    #Flattens the window data into one row\n",
    "    #Will get 20 rows of 3 columns each = 60 data points in each row\n",
    "    feature_columns = ['Acc_X','Acc_Y','Acc_Z']\n",
    "    sensor_values = data[feature_columns].values \n",
    "    features = sensor_values.flatten()\n",
    "    return features"
   ]
  },
  {
   "cell_type": "code",
   "execution_count": 630,
   "metadata": {},
   "outputs": [],
   "source": [
    "from itertools import chain\n",
    "\n",
    "#Get the training window data without overlap from other files\n",
    "# train_X_window = np.empty((0, 20, 3)) \n",
    "# train_Y_window = np.array([])\n",
    "train_X_window_fall = []\n",
    "train_Y_window_fall = []\n",
    "\n",
    "train_X_window_non_fall = []\n",
    "train_Y_window_non_fall = []\n",
    "\n",
    "#For each file in the 16 training files\n",
    "for dataset in data_for_fall:\n",
    "    #Get the fall event location in the file (only one file at a time)\n",
    "    fall_event_loc = dataset[dataset['Fall_indicator']>0].index\n",
    "    \n",
    "    #Get 2 seconds of data around fall event\n",
    "    for fall_loc in fall_event_loc:\n",
    "        data_index_lists = []\n",
    "        #2s of data - 1.5sec before fall, 0.5sec after fall\n",
    "        data_index_lists.append(list(range(fall_loc-45,fall_loc+25)))\n",
    "        #Get all the indices as a list    \n",
    "        drop_arr = list(chain.from_iterable(data_index_lists))\n",
    "        #Take only those indices that correspond to 2 seconds of data around fall event\n",
    "        dataset_sample = dataset.iloc[drop_arr]\n",
    "    \n",
    "\n",
    "        #Create windowed data for the file\n",
    "        train_each_X, train_each_Y = create_dataset(\n",
    "            dataset_sample[['Acc_X', 'Acc_Y', 'Acc_Z']],\n",
    "            dataset_sample[['Fall_indicator']],\n",
    "            feature_size=20\n",
    "        )\n",
    "    \n",
    "        #Adding only non-fall data from the files\n",
    "        data_index_lists_non_fall=[]\n",
    "        #1.2s of data - 10 seconds before fall, duration is 1.2 seconds\n",
    "        data_index_lists_non_fall.append(list(range(fall_loc-600,fall_loc-540)))\n",
    "        #Get all the indices as a list    \n",
    "        drop_arr = list(chain.from_iterable(data_index_lists_non_fall))\n",
    "        #Take only those indices that correspond to 2 seconds of data around fall event\n",
    "        dataset_sample_non_fall = dataset.iloc[drop_arr]\n",
    "\n",
    "\n",
    "        #Create windowed data for the file\n",
    "        train_each_X_non_fall, train_each_Y_non_fall = create_dataset(\n",
    "            dataset_sample_non_fall[['Acc_X', 'Acc_Y', 'Acc_Z']],\n",
    "            dataset_sample_non_fall[['Fall_indicator']],\n",
    "            feature_size=20\n",
    "        )\n",
    "\n",
    "    #     print(\"Fall data dim \",train_each_X.shape,\" and \",train_each_Y.shape)\n",
    "    #     print(\"\\n Non Fall data dim \",train_each_X_non_fall.shape,\" and \",train_each_Y_non_fall.shape)\n",
    "\n",
    "        #Flatten the windowed data to get 60 features in a row\n",
    "        train_each_X_flat = np.stack([to_features(d) for d in train_each_X])\n",
    "        train_each_X_non_fall_flat = np.stack([to_features(d) for d in train_each_X_non_fall])\n",
    "\n",
    "    \n",
    "    #     print(\"Fall data dim \",len(train_each_X_flat),\" and \",len(train_each_Y))\n",
    "    #     print(\"\\n Non Fall data dim \",len(train_each_X_non_fall_flat),\" and \",len(train_each_Y_non_fall))\n",
    "\n",
    "        #Append the data of each file\n",
    "        #Append non-fall data only once in 3 times\n",
    "\n",
    "        train_X_window_non_fall.append(train_each_X_non_fall_flat)\n",
    "        train_X_window_fall.append(train_each_X_flat)\n",
    "\n",
    "        train_Y_window_non_fall.append(train_each_Y_non_fall)\n",
    "        train_Y_window_fall.append(train_each_Y)\n",
    "    "
   ]
  },
  {
   "cell_type": "code",
   "execution_count": 631,
   "metadata": {},
   "outputs": [
    {
     "data": {
      "text/plain": [
       "50"
      ]
     },
     "execution_count": 631,
     "metadata": {},
     "output_type": "execute_result"
    }
   ],
   "source": [
    "len(train_Y_window_fall[1])"
   ]
  },
  {
   "cell_type": "code",
   "execution_count": 632,
   "metadata": {},
   "outputs": [
    {
     "data": {
      "text/plain": [
       "40"
      ]
     },
     "execution_count": 632,
     "metadata": {},
     "output_type": "execute_result"
    }
   ],
   "source": [
    "len(train_Y_window_non_fall[1])"
   ]
  },
  {
   "cell_type": "code",
   "execution_count": 633,
   "metadata": {},
   "outputs": [
    {
     "data": {
      "text/plain": [
       "(50, 60)"
      ]
     },
     "execution_count": 633,
     "metadata": {},
     "output_type": "execute_result"
    }
   ],
   "source": [
    "train_X_window_fall[1].shape"
   ]
  },
  {
   "cell_type": "code",
   "execution_count": 634,
   "metadata": {},
   "outputs": [
    {
     "data": {
      "text/plain": [
       "(50, 1)"
      ]
     },
     "execution_count": 634,
     "metadata": {},
     "output_type": "execute_result"
    }
   ],
   "source": [
    "train_Y_window_fall[1].shape"
   ]
  },
  {
   "cell_type": "code",
   "execution_count": 635,
   "metadata": {},
   "outputs": [
    {
     "data": {
      "text/plain": [
       "array([[ -2.9221 ,   1.1522 ,   8.1011 , ...,  -3.7665 ,  -0.37785,\n",
       "          5.0287 ],\n",
       "       [ -2.5426 ,   1.4321 ,   7.0365 , ...,  -4.1555 ,  -0.71371,\n",
       "          4.5898 ],\n",
       "       [ -2.5142 ,   1.8426 ,   5.1221 , ...,  -3.0834 ,  -0.55511,\n",
       "          4.291  ],\n",
       "       ...,\n",
       "       [ 19.231  ,   4.5761 ,  18.98   , ...,  13.301  , -11.387  ,\n",
       "          5.589  ],\n",
       "       [ 19.231  ,   7.0858 ,  18.98   , ...,  15.816  ,   1.9825 ,\n",
       "          5.2622 ],\n",
       "       [ 19.231  ,  11.097  ,  -2.7221 , ...,  13.311  ,   4.3242 ,\n",
       "          8.0077 ]])"
      ]
     },
     "execution_count": 635,
     "metadata": {},
     "output_type": "execute_result"
    }
   ],
   "source": [
    "train_X_window_fall[1]"
   ]
  },
  {
   "cell_type": "code",
   "execution_count": 636,
   "metadata": {},
   "outputs": [
    {
     "data": {
      "text/plain": [
       "17"
      ]
     },
     "execution_count": 636,
     "metadata": {},
     "output_type": "execute_result"
    }
   ],
   "source": [
    "len(train_X_window_fall)"
   ]
  },
  {
   "cell_type": "code",
   "execution_count": 637,
   "metadata": {},
   "outputs": [
    {
     "name": "stdout",
     "output_type": "stream",
     "text": [
      "50\n",
      "50\n",
      "50\n",
      "50\n",
      "50\n",
      "50\n",
      "50\n",
      "50\n",
      "50\n",
      "50\n",
      "50\n",
      "50\n",
      "50\n",
      "50\n",
      "50\n",
      "50\n",
      "50\n"
     ]
    }
   ],
   "source": [
    "for each_window in train_X_window_fall:\n",
    "    print(len(each_window))"
   ]
  },
  {
   "cell_type": "code",
   "execution_count": 638,
   "metadata": {},
   "outputs": [],
   "source": [
    "train_X_window_fall.insert(1,train_X_window_non_fall[0])\n",
    "train_Y_window_fall.insert(1,train_Y_window_non_fall[0])\n",
    "\n",
    "\n",
    "\n",
    "train_X_window_fall.insert(6,train_X_window_non_fall[5])\n",
    "train_Y_window_fall.insert(6,train_Y_window_non_fall[5])\n",
    "\n",
    "\n",
    "train_X_window_fall.insert(8,train_X_window_non_fall[7])\n",
    "train_Y_window_fall.insert(8,train_Y_window_non_fall[7])\n",
    "\n",
    "\n",
    "train_X_window_fall.insert(11,train_X_window_non_fall[10])\n",
    "train_Y_window_fall.insert(11,train_Y_window_non_fall[10])\n",
    "\n",
    "\n",
    "\n",
    "train_X_window_fall.insert(16,train_X_window_non_fall[15])\n",
    "train_Y_window_fall.insert(16,train_Y_window_non_fall[15])\n"
   ]
  },
  {
   "cell_type": "code",
   "execution_count": 639,
   "metadata": {},
   "outputs": [
    {
     "name": "stdout",
     "output_type": "stream",
     "text": [
      "50\n",
      "40\n",
      "50\n",
      "50\n",
      "50\n",
      "50\n",
      "40\n",
      "50\n",
      "40\n",
      "50\n",
      "50\n",
      "40\n",
      "50\n",
      "50\n",
      "50\n",
      "50\n",
      "40\n",
      "50\n",
      "50\n",
      "50\n",
      "50\n",
      "50\n"
     ]
    }
   ],
   "source": [
    "for each_window in train_X_window_fall:\n",
    "    print(len(each_window))"
   ]
  },
  {
   "cell_type": "code",
   "execution_count": 640,
   "metadata": {},
   "outputs": [
    {
     "data": {
      "text/plain": [
       "22"
      ]
     },
     "execution_count": 640,
     "metadata": {},
     "output_type": "execute_result"
    }
   ],
   "source": [
    "len(train_X_window_fall)"
   ]
  },
  {
   "cell_type": "code",
   "execution_count": 641,
   "metadata": {},
   "outputs": [
    {
     "data": {
      "text/plain": [
       "22"
      ]
     },
     "execution_count": 641,
     "metadata": {},
     "output_type": "execute_result"
    }
   ],
   "source": [
    "len(train_Y_window_fall)"
   ]
  },
  {
   "cell_type": "code",
   "execution_count": 642,
   "metadata": {},
   "outputs": [
    {
     "data": {
      "text/plain": [
       "array([[-2.4914 , -1.7129 ,  9.3429 , ..., -4.2043 , -9.3429 , 11.056  ],\n",
       "       [-3.5814 ,  0.31143, 10.589  , ..., -2.3357 ,  1.2457 ,  9.3429 ],\n",
       "       [-1.7129 ,  1.2457 , 10.433  , ..., -1.4014 , -0.46714,  9.4986 ],\n",
       "       ...,\n",
       "       [29.859  ,  9.7819 , 51.589  , ..., 20.76   , 19.156  ,  2.4606 ],\n",
       "       [56.585  ,  4.7431 , 57.15   , ..., 12.977  ,  6.0099 , -1.4597 ],\n",
       "       [51.95   , 16.707  , 57.15   , ..., 11.031  ,  1.7593 , -1.8767 ]])"
      ]
     },
     "execution_count": 642,
     "metadata": {},
     "output_type": "execute_result"
    }
   ],
   "source": [
    "#Concatenate the windowed and flattened data of each file to form the training data\n",
    "train_X = np.concatenate(train_X_window_fall, axis =0)\n",
    "train_X"
   ]
  },
  {
   "cell_type": "code",
   "execution_count": 643,
   "metadata": {},
   "outputs": [
    {
     "data": {
      "text/plain": [
       "(1050, 60)"
      ]
     },
     "execution_count": 643,
     "metadata": {},
     "output_type": "execute_result"
    }
   ],
   "source": [
    "train_X.shape"
   ]
  },
  {
   "cell_type": "code",
   "execution_count": 644,
   "metadata": {},
   "outputs": [],
   "source": [
    "#Reshape according to LSTM\n",
    "X_train = train_X.reshape(train_X.shape[0],20,3)"
   ]
  },
  {
   "cell_type": "code",
   "execution_count": 645,
   "metadata": {},
   "outputs": [
    {
     "data": {
      "text/plain": [
       "(1050, 20, 3)"
      ]
     },
     "execution_count": 645,
     "metadata": {},
     "output_type": "execute_result"
    }
   ],
   "source": [
    "X_train.shape"
   ]
  },
  {
   "cell_type": "code",
   "execution_count": 646,
   "metadata": {},
   "outputs": [
    {
     "data": {
      "text/plain": [
       "array([[0],\n",
       "       [0],\n",
       "       [0],\n",
       "       ...,\n",
       "       [0],\n",
       "       [0],\n",
       "       [0]], dtype=int64)"
      ]
     },
     "execution_count": 646,
     "metadata": {},
     "output_type": "execute_result"
    }
   ],
   "source": [
    "#Concatenate the fall indicator of each file to form the training labels\n",
    "train_Y = np.concatenate(train_Y_window_fall, axis=0)\n",
    "train_Y"
   ]
  },
  {
   "cell_type": "code",
   "execution_count": 647,
   "metadata": {},
   "outputs": [
    {
     "data": {
      "text/plain": [
       "(1050, 1)"
      ]
     },
     "execution_count": 647,
     "metadata": {},
     "output_type": "execute_result"
    }
   ],
   "source": [
    "train_Y.shape"
   ]
  },
  {
   "cell_type": "code",
   "execution_count": 648,
   "metadata": {},
   "outputs": [
    {
     "data": {
      "text/plain": [
       "array([[0],\n",
       "       [0],\n",
       "       [0],\n",
       "       ...,\n",
       "       [0],\n",
       "       [0],\n",
       "       [0]], dtype=int64)"
      ]
     },
     "execution_count": 648,
     "metadata": {},
     "output_type": "execute_result"
    }
   ],
   "source": [
    "train_Y"
   ]
  },
  {
   "cell_type": "code",
   "execution_count": 649,
   "metadata": {},
   "outputs": [
    {
     "data": {
      "text/plain": [
       "340"
      ]
     },
     "execution_count": 649,
     "metadata": {},
     "output_type": "execute_result"
    }
   ],
   "source": [
    "len(np.argwhere(train_Y > 0))"
   ]
  },
  {
   "cell_type": "code",
   "execution_count": 650,
   "metadata": {},
   "outputs": [],
   "source": [
    "#Replace all labels of fall_indicator > 1 to 1\n",
    "train_Y[train_Y > 1] = 1"
   ]
  },
  {
   "cell_type": "code",
   "execution_count": 651,
   "metadata": {},
   "outputs": [
    {
     "data": {
      "text/plain": [
       "340"
      ]
     },
     "execution_count": 651,
     "metadata": {},
     "output_type": "execute_result"
    }
   ],
   "source": [
    "len(np.argwhere(train_Y == 1))"
   ]
  },
  {
   "cell_type": "code",
   "execution_count": 652,
   "metadata": {},
   "outputs": [
    {
     "data": {
      "text/plain": [
       "710"
      ]
     },
     "execution_count": 652,
     "metadata": {},
     "output_type": "execute_result"
    }
   ],
   "source": [
    "len(np.argwhere(train_Y == 0))"
   ]
  },
  {
   "cell_type": "code",
   "execution_count": 653,
   "metadata": {},
   "outputs": [],
   "source": [
    "test_path = \"./../Datasets/Fall examples/Fall examples/Farseeing/Data/Test/\""
   ]
  },
  {
   "cell_type": "code",
   "execution_count": 654,
   "metadata": {},
   "outputs": [
    {
     "name": "stdout",
     "output_type": "stream",
     "text": [
      "./../Datasets/Fall examples/Fall examples/Farseeing/Data/Test/F_42990421-01-2011-02-19-15-59-57.csv\n",
      "./../Datasets/Fall examples/Fall examples/Farseeing/Data/Test/F_42990421-02-2011-02-19-22-58-03.csv\n",
      "./../Datasets/Fall examples/Fall examples/Farseeing/Data/Test/F_72858619-01-2008-06-26-07-27-49.csv\n",
      "./../Datasets/Fall examples/Fall examples/Farseeing/Data/Test/F_72858619-02-2008-06-26-11-29-16.csv\n",
      "./../Datasets/Fall examples/Fall examples/Farseeing/Data/Test/F_74827807-07-2009-02-16-19-10-44.csv\n",
      "./../Datasets/Fall examples/Fall examples/Farseeing/Data/Test/F_96201346-03-2011-05-21-06-19-42.csv\n"
     ]
    }
   ],
   "source": [
    "from os import walk\n",
    "\n",
    "# columns = ['Time','Acc_X','Acc_Y','Acc_Z','Fall_indicator']\n",
    "# train_data = pd.DataFrame() #columns=columns)\n",
    "data_for_fall_test=[]\n",
    "\n",
    "for (dirpath, dirnames, filenames) in walk(test_path):\n",
    "    \n",
    "    for file in filenames:\n",
    "        print(dirpath+file)\n",
    "        data = pd.read_csv(dirpath+file)\n",
    "        data.columns = ['Time','Rel_Time','Acc_X','Acc_Y','Acc_Z','Mg_X','Mg_Y','Mg_Z','Ang_X','Ang_Y','Ang_Z','Fall_indicator']\n",
    "        data_for_fall_test.append(data)"
   ]
  },
  {
   "cell_type": "code",
   "execution_count": 655,
   "metadata": {},
   "outputs": [],
   "source": [
    "#SAME TESTING SET\n",
    "from itertools import chain\n",
    "\n",
    "\n",
    "#Same process of split for testing data\n",
    "test_X_window = []\n",
    "test_Y_window = []\n",
    "for dataset in data_for_fall_test:\n",
    "    #Get the fall event location in the file (only one file at a time)\n",
    "    fall_event_loc = dataset[dataset['Fall_indicator']>0].index\n",
    "    data_index_lists = []\n",
    "    #Get 2 seconds of data around fall event\n",
    "    for fall_loc in fall_event_loc:\n",
    "        #2s of data - 1.5sec before fall, 0.5sec after fall\n",
    "        data_index_lists.append(list(range(fall_loc-40,fall_loc+20)))\n",
    "    #Get all the indices as a list    \n",
    "    drop_arr = list(chain.from_iterable(data_index_lists))\n",
    "    #Take only those indices that correspond to 2 seconds of data around fall event\n",
    "    dataset_sample = dataset.iloc[drop_arr]\n",
    "    \n",
    "\n",
    "    #Create windowed data for the file\n",
    "    test_each_X, test_each_Y = create_dataset(\n",
    "        dataset_sample[['Acc_X', 'Acc_Y', 'Acc_Z']],\n",
    "        dataset_sample[['Fall_indicator']],\n",
    "        feature_size=20\n",
    "    )\n",
    "    \n",
    "    #Adding only non-fall data from the files\n",
    "    data_index_lists_non_fall=[]\n",
    "    for fall_loc in fall_event_loc:\n",
    "        #2s of data - 10 seconds before fall, duration is 2 seconds\n",
    "        data_index_lists_non_fall.append(list(range(fall_loc-600,fall_loc-560)))\n",
    "    #Get all the indices as a list    \n",
    "    drop_arr = list(chain.from_iterable(data_index_lists_non_fall))\n",
    "    #Take only those indices that correspond to 2 seconds of data around fall event\n",
    "    dataset_sample_non_fall = dataset.iloc[drop_arr]\n",
    "    \n",
    "\n",
    "    #Create windowed data for the file\n",
    "    test_each_X_non_fall, test_each_Y_non_fall = create_dataset(\n",
    "        dataset_sample_non_fall[['Acc_X', 'Acc_Y', 'Acc_Z']],\n",
    "        dataset_sample_non_fall[['Fall_indicator']],\n",
    "        feature_size=20\n",
    "    )\n",
    "    \n",
    "    #Flatten the windowed data to get 60 features in a row\n",
    "    test_each_X_flat = np.stack([to_features(d) for d in test_each_X])\n",
    "    test_each_X_flat_non_fall = np.stack([to_features(d) for d in test_each_X_non_fall])\n",
    "    \n",
    "    #Append the data of each file\n",
    "    test_X_window.append(test_each_X_flat)\n",
    "    test_X_window.append(test_each_X_flat_non_fall)\n",
    "    \n",
    "    \n",
    "    test_Y_window.append(test_each_Y)\n",
    "    test_Y_window.append(test_each_Y_non_fall)\n",
    "    \n",
    "    "
   ]
  },
  {
   "cell_type": "code",
   "execution_count": 656,
   "metadata": {},
   "outputs": [
    {
     "data": {
      "text/plain": [
       "array([[-5.1077 , -0.60521,  7.354  , ..., -4.7643 , -0.54891,  6.4087 ],\n",
       "       [-5.1077 , -0.57706,  7.6599 , ..., -4.564  , -0.49261,  6.3253 ],\n",
       "       [-4.8502 , -0.40816,  7.2428 , ..., -4.3923 , -0.35187,  6.1307 ],\n",
       "       ...,\n",
       "       [-0.7869 , -1.6186 ,  9.7173 , ..., -0.87274, -1.5904 ,  9.7173 ],\n",
       "       [-0.7869 , -1.6467 ,  9.6617 , ..., -0.87274, -1.6186 ,  9.7173 ],\n",
       "       [-0.75828, -1.6749 ,  9.6061 , ..., -0.87274, -1.6186 ,  9.6617 ]])"
      ]
     },
     "execution_count": 656,
     "metadata": {},
     "output_type": "execute_result"
    }
   ],
   "source": [
    "test_X = np.concatenate(test_X_window, axis = 0)\n",
    "test_X"
   ]
  },
  {
   "cell_type": "code",
   "execution_count": 657,
   "metadata": {},
   "outputs": [
    {
     "data": {
      "text/plain": [
       "(360, 60)"
      ]
     },
     "execution_count": 657,
     "metadata": {},
     "output_type": "execute_result"
    }
   ],
   "source": [
    "test_X.shape"
   ]
  },
  {
   "cell_type": "code",
   "execution_count": 659,
   "metadata": {},
   "outputs": [],
   "source": [
    "X_test = test_X.reshape(test_X.shape[0],20,3)"
   ]
  },
  {
   "cell_type": "code",
   "execution_count": 658,
   "metadata": {},
   "outputs": [
    {
     "data": {
      "text/plain": [
       "array([[0],\n",
       "       [0],\n",
       "       [0],\n",
       "       [0],\n",
       "       [0],\n",
       "       [0],\n",
       "       [0],\n",
       "       [0],\n",
       "       [0],\n",
       "       [0],\n",
       "       [0],\n",
       "       [0],\n",
       "       [0],\n",
       "       [0],\n",
       "       [0],\n",
       "       [0],\n",
       "       [0],\n",
       "       [0],\n",
       "       [0],\n",
       "       [0],\n",
       "       [0],\n",
       "       [2],\n",
       "       [2],\n",
       "       [2],\n",
       "       [2],\n",
       "       [2],\n",
       "       [2],\n",
       "       [2],\n",
       "       [2],\n",
       "       [2],\n",
       "       [2],\n",
       "       [2],\n",
       "       [2],\n",
       "       [2],\n",
       "       [2],\n",
       "       [2],\n",
       "       [2],\n",
       "       [2],\n",
       "       [2],\n",
       "       [2],\n",
       "       [0],\n",
       "       [0],\n",
       "       [0],\n",
       "       [0],\n",
       "       [0],\n",
       "       [0],\n",
       "       [0],\n",
       "       [0],\n",
       "       [0],\n",
       "       [0],\n",
       "       [0],\n",
       "       [0],\n",
       "       [0],\n",
       "       [0],\n",
       "       [0],\n",
       "       [0],\n",
       "       [0],\n",
       "       [0],\n",
       "       [0],\n",
       "       [0],\n",
       "       [0],\n",
       "       [0],\n",
       "       [0],\n",
       "       [0],\n",
       "       [0],\n",
       "       [0],\n",
       "       [0],\n",
       "       [0],\n",
       "       [0],\n",
       "       [0],\n",
       "       [0],\n",
       "       [0],\n",
       "       [0],\n",
       "       [0],\n",
       "       [0],\n",
       "       [0],\n",
       "       [0],\n",
       "       [0],\n",
       "       [0],\n",
       "       [0],\n",
       "       [0],\n",
       "       [2],\n",
       "       [2],\n",
       "       [2],\n",
       "       [2],\n",
       "       [2],\n",
       "       [2],\n",
       "       [2],\n",
       "       [2],\n",
       "       [2],\n",
       "       [2],\n",
       "       [2],\n",
       "       [2],\n",
       "       [2],\n",
       "       [2],\n",
       "       [2],\n",
       "       [2],\n",
       "       [2],\n",
       "       [2],\n",
       "       [2],\n",
       "       [0],\n",
       "       [0],\n",
       "       [0],\n",
       "       [0],\n",
       "       [0],\n",
       "       [0],\n",
       "       [0],\n",
       "       [0],\n",
       "       [0],\n",
       "       [0],\n",
       "       [0],\n",
       "       [0],\n",
       "       [0],\n",
       "       [0],\n",
       "       [0],\n",
       "       [0],\n",
       "       [0],\n",
       "       [0],\n",
       "       [0],\n",
       "       [0],\n",
       "       [0],\n",
       "       [0],\n",
       "       [0],\n",
       "       [0],\n",
       "       [0],\n",
       "       [0],\n",
       "       [0],\n",
       "       [0],\n",
       "       [0],\n",
       "       [0],\n",
       "       [0],\n",
       "       [0],\n",
       "       [0],\n",
       "       [0],\n",
       "       [0],\n",
       "       [0],\n",
       "       [0],\n",
       "       [0],\n",
       "       [0],\n",
       "       [0],\n",
       "       [0],\n",
       "       [2],\n",
       "       [2],\n",
       "       [2],\n",
       "       [2],\n",
       "       [2],\n",
       "       [2],\n",
       "       [2],\n",
       "       [2],\n",
       "       [2],\n",
       "       [2],\n",
       "       [2],\n",
       "       [2],\n",
       "       [2],\n",
       "       [2],\n",
       "       [2],\n",
       "       [2],\n",
       "       [2],\n",
       "       [2],\n",
       "       [2],\n",
       "       [0],\n",
       "       [0],\n",
       "       [0],\n",
       "       [0],\n",
       "       [0],\n",
       "       [0],\n",
       "       [0],\n",
       "       [0],\n",
       "       [0],\n",
       "       [0],\n",
       "       [0],\n",
       "       [0],\n",
       "       [0],\n",
       "       [0],\n",
       "       [0],\n",
       "       [0],\n",
       "       [0],\n",
       "       [0],\n",
       "       [0],\n",
       "       [0],\n",
       "       [0],\n",
       "       [0],\n",
       "       [0],\n",
       "       [0],\n",
       "       [0],\n",
       "       [0],\n",
       "       [0],\n",
       "       [0],\n",
       "       [0],\n",
       "       [0],\n",
       "       [0],\n",
       "       [0],\n",
       "       [0],\n",
       "       [0],\n",
       "       [0],\n",
       "       [0],\n",
       "       [0],\n",
       "       [0],\n",
       "       [0],\n",
       "       [0],\n",
       "       [0],\n",
       "       [2],\n",
       "       [2],\n",
       "       [2],\n",
       "       [2],\n",
       "       [2],\n",
       "       [2],\n",
       "       [2],\n",
       "       [2],\n",
       "       [2],\n",
       "       [2],\n",
       "       [2],\n",
       "       [2],\n",
       "       [2],\n",
       "       [2],\n",
       "       [2],\n",
       "       [2],\n",
       "       [2],\n",
       "       [2],\n",
       "       [2],\n",
       "       [0],\n",
       "       [0],\n",
       "       [0],\n",
       "       [0],\n",
       "       [0],\n",
       "       [0],\n",
       "       [0],\n",
       "       [0],\n",
       "       [0],\n",
       "       [0],\n",
       "       [0],\n",
       "       [0],\n",
       "       [0],\n",
       "       [0],\n",
       "       [0],\n",
       "       [0],\n",
       "       [0],\n",
       "       [0],\n",
       "       [0],\n",
       "       [0],\n",
       "       [0],\n",
       "       [0],\n",
       "       [0],\n",
       "       [0],\n",
       "       [0],\n",
       "       [0],\n",
       "       [0],\n",
       "       [0],\n",
       "       [0],\n",
       "       [0],\n",
       "       [0],\n",
       "       [0],\n",
       "       [0],\n",
       "       [0],\n",
       "       [0],\n",
       "       [0],\n",
       "       [0],\n",
       "       [0],\n",
       "       [0],\n",
       "       [0],\n",
       "       [0],\n",
       "       [3],\n",
       "       [3],\n",
       "       [3],\n",
       "       [3],\n",
       "       [3],\n",
       "       [3],\n",
       "       [3],\n",
       "       [3],\n",
       "       [3],\n",
       "       [3],\n",
       "       [3],\n",
       "       [3],\n",
       "       [3],\n",
       "       [3],\n",
       "       [3],\n",
       "       [3],\n",
       "       [3],\n",
       "       [3],\n",
       "       [3],\n",
       "       [0],\n",
       "       [0],\n",
       "       [0],\n",
       "       [0],\n",
       "       [0],\n",
       "       [0],\n",
       "       [0],\n",
       "       [0],\n",
       "       [0],\n",
       "       [0],\n",
       "       [0],\n",
       "       [0],\n",
       "       [0],\n",
       "       [0],\n",
       "       [0],\n",
       "       [0],\n",
       "       [0],\n",
       "       [0],\n",
       "       [0],\n",
       "       [0],\n",
       "       [0],\n",
       "       [0],\n",
       "       [0],\n",
       "       [0],\n",
       "       [0],\n",
       "       [0],\n",
       "       [0],\n",
       "       [0],\n",
       "       [0],\n",
       "       [0],\n",
       "       [0],\n",
       "       [0],\n",
       "       [0],\n",
       "       [0],\n",
       "       [0],\n",
       "       [0],\n",
       "       [0],\n",
       "       [0],\n",
       "       [0],\n",
       "       [0],\n",
       "       [0],\n",
       "       [2],\n",
       "       [2],\n",
       "       [2],\n",
       "       [2],\n",
       "       [2],\n",
       "       [2],\n",
       "       [2],\n",
       "       [2],\n",
       "       [2],\n",
       "       [2],\n",
       "       [2],\n",
       "       [2],\n",
       "       [2],\n",
       "       [2],\n",
       "       [2],\n",
       "       [2],\n",
       "       [2],\n",
       "       [2],\n",
       "       [2],\n",
       "       [0],\n",
       "       [0],\n",
       "       [0],\n",
       "       [0],\n",
       "       [0],\n",
       "       [0],\n",
       "       [0],\n",
       "       [0],\n",
       "       [0],\n",
       "       [0],\n",
       "       [0],\n",
       "       [0],\n",
       "       [0],\n",
       "       [0],\n",
       "       [0],\n",
       "       [0],\n",
       "       [0],\n",
       "       [0],\n",
       "       [0],\n",
       "       [0]], dtype=int64)"
      ]
     },
     "execution_count": 658,
     "metadata": {},
     "output_type": "execute_result"
    }
   ],
   "source": [
    "test_Y = np.concatenate(test_Y_window, axis=0)\n",
    "test_Y"
   ]
  },
  {
   "cell_type": "code",
   "execution_count": 660,
   "metadata": {},
   "outputs": [
    {
     "data": {
      "text/plain": [
       "(360, 1)"
      ]
     },
     "execution_count": 660,
     "metadata": {},
     "output_type": "execute_result"
    }
   ],
   "source": [
    "test_Y.shape"
   ]
  },
  {
   "cell_type": "code",
   "execution_count": 661,
   "metadata": {},
   "outputs": [
    {
     "data": {
      "text/plain": [
       "114"
      ]
     },
     "execution_count": 661,
     "metadata": {},
     "output_type": "execute_result"
    }
   ],
   "source": [
    "len(np.argwhere(test_Y > 0))"
   ]
  },
  {
   "cell_type": "code",
   "execution_count": 662,
   "metadata": {},
   "outputs": [],
   "source": [
    "#Replace all labels of fall_indicator > 1 to 1\n",
    "test_Y[test_Y > 1] = 1"
   ]
  },
  {
   "cell_type": "code",
   "execution_count": 663,
   "metadata": {},
   "outputs": [
    {
     "data": {
      "text/plain": [
       "114"
      ]
     },
     "execution_count": 663,
     "metadata": {},
     "output_type": "execute_result"
    }
   ],
   "source": [
    "len(np.argwhere(test_Y == 1))"
   ]
  },
  {
   "cell_type": "code",
   "execution_count": 664,
   "metadata": {},
   "outputs": [
    {
     "data": {
      "text/plain": [
       "246"
      ]
     },
     "execution_count": 664,
     "metadata": {},
     "output_type": "execute_result"
    }
   ],
   "source": [
    "len(np.argwhere(test_Y == 0))"
   ]
  },
  {
   "cell_type": "code",
   "execution_count": 665,
   "metadata": {},
   "outputs": [],
   "source": [
    "from sklearn.preprocessing import OneHotEncoder\n",
    "\n",
    "enc = OneHotEncoder(handle_unknown='ignore', sparse=False)\n",
    "enc = enc.fit(train_Y)\n",
    "y_train = enc.transform(train_Y)"
   ]
  },
  {
   "cell_type": "code",
   "execution_count": 666,
   "metadata": {},
   "outputs": [
    {
     "data": {
      "text/plain": [
       "array([[1., 0.],\n",
       "       [1., 0.],\n",
       "       [1., 0.],\n",
       "       ...,\n",
       "       [1., 0.],\n",
       "       [1., 0.],\n",
       "       [1., 0.]])"
      ]
     },
     "execution_count": 666,
     "metadata": {},
     "output_type": "execute_result"
    }
   ],
   "source": [
    "y_train"
   ]
  },
  {
   "cell_type": "markdown",
   "metadata": {},
   "source": [
    "## LSTM model acc. to paper"
   ]
  },
  {
   "cell_type": "code",
   "execution_count": 667,
   "metadata": {},
   "outputs": [],
   "source": [
    "from keras.models import Sequential\n",
    "from keras.layers import Dense,Dropout,LSTM\n",
    "from keras.utils import to_categorical\n",
    "from keras.layers.normalization import BatchNormalization\n",
    "# from keras.optimizers import Adam"
   ]
  },
  {
   "cell_type": "code",
   "execution_count": 686,
   "metadata": {},
   "outputs": [
    {
     "name": "stdout",
     "output_type": "stream",
     "text": [
      "Model: \"sequential_19\"\n",
      "_________________________________________________________________\n",
      "Layer (type)                 Output Shape              Param #   \n",
      "=================================================================\n",
      "lstm_24 (LSTM)               (None, 64)                17408     \n",
      "_________________________________________________________________\n",
      "dropout_30 (Dropout)         (None, 64)                0         \n",
      "_________________________________________________________________\n",
      "dense_36 (Dense)             (None, 32)                2080      \n",
      "_________________________________________________________________\n",
      "dense_37 (Dense)             (None, 2)                 66        \n",
      "=================================================================\n",
      "Total params: 19,554\n",
      "Trainable params: 19,554\n",
      "Non-trainable params: 0\n",
      "_________________________________________________________________\n"
     ]
    }
   ],
   "source": [
    "model = Sequential()\n",
    "model.add(LSTM(64, input_shape=(X_train.shape[1],X_train.shape[2])))\n",
    "model.add(Dropout(0.5))\n",
    "model.add(Dense(32, activation='relu'))\n",
    "model.add(Dense(2, activation='softmax'))\n",
    "\n",
    "# adam = Adam(lr=0.01)\n",
    "model.compile(loss='binary_crossentropy', optimizer='adam', metrics=['accuracy'])\n",
    "model.summary()"
   ]
  },
  {
   "cell_type": "code",
   "execution_count": 687,
   "metadata": {},
   "outputs": [
    {
     "name": "stdout",
     "output_type": "stream",
     "text": [
      "Epoch 1/100\n",
      "30/30 - 0s - loss: 0.6210 - accuracy: 0.6667 - val_loss: 0.6116 - val_accuracy: 0.6286\n",
      "Epoch 2/100\n",
      "30/30 - 0s - loss: 0.4247 - accuracy: 0.7799 - val_loss: 0.5606 - val_accuracy: 0.6571\n",
      "Epoch 3/100\n",
      "30/30 - 0s - loss: 0.3602 - accuracy: 0.8307 - val_loss: 0.5122 - val_accuracy: 0.7238\n",
      "Epoch 4/100\n",
      "30/30 - 0s - loss: 0.3145 - accuracy: 0.8593 - val_loss: 0.4599 - val_accuracy: 0.8095\n",
      "Epoch 5/100\n",
      "30/30 - 0s - loss: 0.2748 - accuracy: 0.8762 - val_loss: 0.4729 - val_accuracy: 0.8286\n",
      "Epoch 6/100\n",
      "30/30 - 0s - loss: 0.2332 - accuracy: 0.9026 - val_loss: 0.4375 - val_accuracy: 0.8286\n",
      "Epoch 7/100\n",
      "30/30 - 0s - loss: 0.2090 - accuracy: 0.9101 - val_loss: 0.4540 - val_accuracy: 0.8190\n",
      "Epoch 8/100\n",
      "30/30 - 0s - loss: 0.1929 - accuracy: 0.9238 - val_loss: 0.5036 - val_accuracy: 0.7905\n",
      "Epoch 9/100\n",
      "30/30 - 0s - loss: 0.1770 - accuracy: 0.9249 - val_loss: 0.5250 - val_accuracy: 0.8190\n",
      "Epoch 00009: early stopping\n"
     ]
    }
   ],
   "source": [
    "from tensorflow.keras.callbacks import EarlyStopping\n",
    "\n",
    "early_stop = EarlyStopping(monitor='val_loss', mode='min', verbose=1, patience=3)\n",
    "\n",
    "history = model.fit(X_train, y_train, epochs=100, batch_size=32, verbose=2, validation_split=0.1, callbacks=[early_stop])\n",
    "\n",
    "\n",
    "# model.fit(X_train, y_train, epochs=20, batch_size=32, verbose=2)"
   ]
  },
  {
   "cell_type": "code",
   "execution_count": 696,
   "metadata": {},
   "outputs": [
    {
     "data": {
      "image/png": "[encoded data removed]",
      "text/plain": [
       "<Figure size 432x288 with 1 Axes>"
      ]
     },
     "metadata": {
      "needs_background": "light"
     },
     "output_type": "display_data"
    }
   ],
   "source": [
    "from matplotlib import pyplot\n",
    "\n",
    "pyplot.plot(history.history['loss'], label='train')\n",
    "pyplot.plot(history.history['val_loss'], label='val')\n",
    "pyplot.legend()\n",
    "pyplot.show()"
   ]
  },
  {
   "cell_type": "code",
   "execution_count": 689,
   "metadata": {},
   "outputs": [],
   "source": [
    "Y_pred = model.predict(X_test)"
   ]
  },
  {
   "cell_type": "code",
   "execution_count": 690,
   "metadata": {},
   "outputs": [
    {
     "data": {
      "text/plain": [
       "array([[9.78584111e-01, 2.14158446e-02],\n",
       "       [9.79971707e-01, 2.00282969e-02],\n",
       "       [9.81781960e-01, 1.82180554e-02],\n",
       "       [9.83063281e-01, 1.69367082e-02],\n",
       "       [9.82402265e-01, 1.75978038e-02],\n",
       "       [9.81294870e-01, 1.87050831e-02],\n",
       "       [9.78998125e-01, 2.10019369e-02],\n",
       "       [9.76136744e-01, 2.38632187e-02],\n",
       "       [9.75264072e-01, 2.47359686e-02],\n",
       "       [9.75692034e-01, 2.43079048e-02],\n",
       "       [9.76257622e-01, 2.37423200e-02],\n",
       "       [9.77977872e-01, 2.20221467e-02],\n",
       "       [9.81138110e-01, 1.88619420e-02],\n",
       "       [9.83170569e-01, 1.68294664e-02],\n",
       "       [9.84660208e-01, 1.53397443e-02],\n",
       "       [9.85637009e-01, 1.43629145e-02],\n",
       "       [9.86923754e-01, 1.30762113e-02],\n",
       "       [9.87760901e-01, 1.22391135e-02],\n",
       "       [9.87363636e-01, 1.26363551e-02],\n",
       "       [9.86074507e-01, 1.39255133e-02],\n",
       "       [9.86328065e-01, 1.36718797e-02],\n",
       "       [9.85481858e-01, 1.45180896e-02],\n",
       "       [9.87011313e-01, 1.29886763e-02],\n",
       "       [9.88016725e-01, 1.19831963e-02],\n",
       "       [9.88440156e-01, 1.15598608e-02],\n",
       "       [9.89044785e-01, 1.09551847e-02],\n",
       "       [9.90128219e-01, 9.87181719e-03],\n",
       "       [9.91356969e-01, 8.64303391e-03],\n",
       "       [9.92945731e-01, 7.05423625e-03],\n",
       "       [9.94228125e-01, 5.77183673e-03],\n",
       "       [9.95033383e-01, 4.96665249e-03],\n",
       "       [9.95518684e-01, 4.48130816e-03],\n",
       "       [9.95628595e-01, 4.37137950e-03],\n",
       "       [9.96102571e-01, 3.89747089e-03],\n",
       "       [9.96717274e-01, 3.28264572e-03],\n",
       "       [9.97170866e-01, 2.82910792e-03],\n",
       "       [9.97361362e-01, 2.63861939e-03],\n",
       "       [9.97597396e-01, 2.40256847e-03],\n",
       "       [9.97692108e-01, 2.30790465e-03],\n",
       "       [9.97518539e-01, 2.48146313e-03],\n",
       "       [9.36448812e-01, 6.35511950e-02],\n",
       "       [9.36292946e-01, 6.37070760e-02],\n",
       "       [9.36184585e-01, 6.38153702e-02],\n",
       "       [9.36099768e-01, 6.39002621e-02],\n",
       "       [9.36584473e-01, 6.34154752e-02],\n",
       "       [9.36957240e-01, 6.30427301e-02],\n",
       "       [9.37327206e-01, 6.26727492e-02],\n",
       "       [9.37564909e-01, 6.24351278e-02],\n",
       "       [9.37882125e-01, 6.21179044e-02],\n",
       "       [9.38178837e-01, 6.18211478e-02],\n",
       "       [9.37946320e-01, 6.20537065e-02],\n",
       "       [9.37746048e-01, 6.22539707e-02],\n",
       "       [9.37097371e-01, 6.29026517e-02],\n",
       "       [9.37107205e-01, 6.28927723e-02],\n",
       "       [9.37210143e-01, 6.27898723e-02],\n",
       "       [9.37314749e-01, 6.26852736e-02],\n",
       "       [9.37304497e-01, 6.26954660e-02],\n",
       "       [9.37273502e-01, 6.27264977e-02],\n",
       "       [9.37253058e-01, 6.27469048e-02],\n",
       "       [9.36678112e-01, 6.33218661e-02],\n",
       "       [9.88253951e-01, 1.17460731e-02],\n",
       "       [9.94298398e-01, 5.70158614e-03],\n",
       "       [9.96565998e-01, 3.43398913e-03],\n",
       "       [9.97343123e-01, 2.65684328e-03],\n",
       "       [9.97657180e-01, 2.34284252e-03],\n",
       "       [9.97632027e-01, 2.36800779e-03],\n",
       "       [9.97181296e-01, 2.81868037e-03],\n",
       "       [9.96502995e-01, 3.49695515e-03],\n",
       "       [9.94316995e-01, 5.68296108e-03],\n",
       "       [9.88147557e-01, 1.18523948e-02],\n",
       "       [9.74900544e-01, 2.50993744e-02],\n",
       "       [9.55094874e-01, 4.49050888e-02],\n",
       "       [9.41548765e-01, 5.84512912e-02],\n",
       "       [9.54088867e-01, 4.59111184e-02],\n",
       "       [9.72850502e-01, 2.71494705e-02],\n",
       "       [9.83207583e-01, 1.67924389e-02],\n",
       "       [9.88765121e-01, 1.12349493e-02],\n",
       "       [9.92273510e-01, 7.72645185e-03],\n",
       "       [9.94574130e-01, 5.42591885e-03],\n",
       "       [9.96166229e-01, 3.83375818e-03],\n",
       "       [9.95941579e-01, 4.05837782e-03],\n",
       "       [9.33025360e-01, 6.69746399e-02],\n",
       "       [2.32361943e-01, 7.67638028e-01],\n",
       "       [7.70999193e-02, 9.22900081e-01],\n",
       "       [6.67869925e-01, 3.32130015e-01],\n",
       "       [8.25932980e-01, 1.74067035e-01],\n",
       "       [6.60795212e-01, 3.39204818e-01],\n",
       "       [4.28729206e-01, 5.71270823e-01],\n",
       "       [1.74366400e-01, 8.25633585e-01],\n",
       "       [1.28575847e-01, 8.71424198e-01],\n",
       "       [1.30635232e-01, 8.69364738e-01],\n",
       "       [1.21217020e-01, 8.78783047e-01],\n",
       "       [1.25456855e-01, 8.74543130e-01],\n",
       "       [1.58041850e-01, 8.41958225e-01],\n",
       "       [1.18152007e-01, 8.81847978e-01],\n",
       "       [9.57875624e-02, 9.04212415e-01],\n",
       "       [1.07964292e-01, 8.92035663e-01],\n",
       "       [1.89287663e-01, 8.10712397e-01],\n",
       "       [2.61706799e-01, 7.38293231e-01],\n",
       "       [2.92104095e-01, 7.07895935e-01],\n",
       "       [9.55822289e-01, 4.41777669e-02],\n",
       "       [9.54495788e-01, 4.55042124e-02],\n",
       "       [9.55300689e-01, 4.46993113e-02],\n",
       "       [9.55709577e-01, 4.42903712e-02],\n",
       "       [9.58098471e-01, 4.19015922e-02],\n",
       "       [9.60016310e-01, 3.99836674e-02],\n",
       "       [9.63737130e-01, 3.62628736e-02],\n",
       "       [9.68481481e-01, 3.15184556e-02],\n",
       "       [9.72904146e-01, 2.70958636e-02],\n",
       "       [9.76102829e-01, 2.38971431e-02],\n",
       "       [9.78506267e-01, 2.14937814e-02],\n",
       "       [9.80105102e-01, 1.98948644e-02],\n",
       "       [9.81492221e-01, 1.85077135e-02],\n",
       "       [9.82218683e-01, 1.77813396e-02],\n",
       "       [9.83069658e-01, 1.69303976e-02],\n",
       "       [9.83936667e-01, 1.60633586e-02],\n",
       "       [9.85109806e-01, 1.48901911e-02],\n",
       "       [9.86180604e-01, 1.38193425e-02],\n",
       "       [9.87538934e-01, 1.24610141e-02],\n",
       "       [9.88705993e-01, 1.12940352e-02],\n",
       "       [9.97581244e-01, 2.41874740e-03],\n",
       "       [9.96907890e-01, 3.09213693e-03],\n",
       "       [9.95993257e-01, 4.00666613e-03],\n",
       "       [9.94967878e-01, 5.03212260e-03],\n",
       "       [9.93653059e-01, 6.34687347e-03],\n",
       "       [9.91710663e-01, 8.28933250e-03],\n",
       "       [9.88600791e-01, 1.13992039e-02],\n",
       "       [9.83599305e-01, 1.64007265e-02],\n",
       "       [9.75907922e-01, 2.40920149e-02],\n",
       "       [9.69349265e-01, 3.06507219e-02],\n",
       "       [9.62825894e-01, 3.71740907e-02],\n",
       "       [9.57404315e-01, 4.25957181e-02],\n",
       "       [9.41330135e-01, 5.86699061e-02],\n",
       "       [9.10536408e-01, 8.94636139e-02],\n",
       "       [8.67471039e-01, 1.32528991e-01],\n",
       "       [8.26214254e-01, 1.73785746e-01],\n",
       "       [8.10327172e-01, 1.89672843e-01],\n",
       "       [8.05556178e-01, 1.94443837e-01],\n",
       "       [7.89090633e-01, 2.10909337e-01],\n",
       "       [7.48267174e-01, 2.51732796e-01],\n",
       "       [6.62864327e-01, 3.37135613e-01],\n",
       "       [4.65362191e-01, 5.34637868e-01],\n",
       "       [3.34318876e-01, 6.65681064e-01],\n",
       "       [2.80851990e-01, 7.19147980e-01],\n",
       "       [6.28411248e-02, 9.37158823e-01],\n",
       "       [2.40661707e-02, 9.75933850e-01],\n",
       "       [4.24261466e-02, 9.57573831e-01],\n",
       "       [2.69881748e-02, 9.73011792e-01],\n",
       "       [2.64659654e-02, 9.73534048e-01],\n",
       "       [2.47378089e-02, 9.75262225e-01],\n",
       "       [2.54143830e-02, 9.74585593e-01],\n",
       "       [4.78728749e-02, 9.52127099e-01],\n",
       "       [4.90976982e-02, 9.50902283e-01],\n",
       "       [7.11865202e-02, 9.28813517e-01],\n",
       "       [9.27434862e-02, 9.07256484e-01],\n",
       "       [1.62562266e-01, 8.37437749e-01],\n",
       "       [2.07890198e-01, 7.92109847e-01],\n",
       "       [2.42820770e-01, 7.57179260e-01],\n",
       "       [3.31874818e-01, 6.68125153e-01],\n",
       "       [3.61475140e-01, 6.38524890e-01],\n",
       "       [9.99373734e-01, 6.26330904e-04],\n",
       "       [9.99374568e-01, 6.25511282e-04],\n",
       "       [9.99376237e-01, 6.23813889e-04],\n",
       "       [9.99378443e-01, 6.21542102e-04],\n",
       "       [9.99380708e-01, 6.19272352e-04],\n",
       "       [9.99382257e-01, 6.17732934e-04],\n",
       "       [9.99382377e-01, 6.17639336e-04],\n",
       "       [9.99382257e-01, 6.17664598e-04],\n",
       "       [9.99382973e-01, 6.16948295e-04],\n",
       "       [9.99383807e-01, 6.16185600e-04],\n",
       "       [9.99384522e-01, 6.15514466e-04],\n",
       "       [9.99384880e-01, 6.15040190e-04],\n",
       "       [9.99385238e-01, 6.14728837e-04],\n",
       "       [9.99385715e-01, 6.14217191e-04],\n",
       "       [9.99386668e-01, 6.13334763e-04],\n",
       "       [9.99387741e-01, 6.12287316e-04],\n",
       "       [9.99388933e-01, 6.11029798e-04],\n",
       "       [9.99389887e-01, 6.10073155e-04],\n",
       "       [9.99390841e-01, 6.09163253e-04],\n",
       "       [9.99391913e-01, 6.08102302e-04],\n",
       "       [9.99571741e-01, 4.28299274e-04],\n",
       "       [9.99610364e-01, 3.89718509e-04],\n",
       "       [9.99643207e-01, 3.56765144e-04],\n",
       "       [9.99657869e-01, 3.42163083e-04],\n",
       "       [9.99646306e-01, 3.53710959e-04],\n",
       "       [9.99599636e-01, 4.00369812e-04],\n",
       "       [9.99499798e-01, 5.00225695e-04],\n",
       "       [9.99343693e-01, 6.56307151e-04],\n",
       "       [9.99070346e-01, 9.29679896e-04],\n",
       "       [9.98669267e-01, 1.33069826e-03],\n",
       "       [9.98437822e-01, 1.56212249e-03],\n",
       "       [9.98307467e-01, 1.69255398e-03],\n",
       "       [9.98223007e-01, 1.77702075e-03],\n",
       "       [9.98091519e-01, 1.90846657e-03],\n",
       "       [9.97846127e-01, 2.15384946e-03],\n",
       "       [9.97399211e-01, 2.60077720e-03],\n",
       "       [9.96391833e-01, 3.60813434e-03],\n",
       "       [9.94346321e-01, 5.65369939e-03],\n",
       "       [9.90384579e-01, 9.61545389e-03],\n",
       "       [9.84028518e-01, 1.59715116e-02],\n",
       "       [9.74981725e-01, 2.50182673e-02],\n",
       "       [9.21631396e-01, 7.83685297e-02],\n",
       "       [4.80293244e-01, 5.19706786e-01],\n",
       "       [2.44295880e-01, 7.55704105e-01],\n",
       "       [6.63330480e-02, 9.33666945e-01],\n",
       "       [2.81556081e-02, 9.71844375e-01],\n",
       "       [1.29175931e-01, 8.70824039e-01],\n",
       "       [6.56263158e-02, 9.34373677e-01],\n",
       "       [4.51345854e-02, 9.54865396e-01],\n",
       "       [6.35892674e-02, 9.36410725e-01],\n",
       "       [3.35057527e-02, 9.66494322e-01],\n",
       "       [3.59559394e-02, 9.64044034e-01],\n",
       "       [4.58945595e-02, 9.54105496e-01],\n",
       "       [5.52331433e-02, 9.44766879e-01],\n",
       "       [7.50340372e-02, 9.24965978e-01],\n",
       "       [1.11903727e-01, 8.88096213e-01],\n",
       "       [1.90184727e-01, 8.09815288e-01],\n",
       "       [3.40249091e-01, 6.59750819e-01],\n",
       "       [4.89993632e-01, 5.10006368e-01],\n",
       "       [5.17119825e-01, 4.82880145e-01],\n",
       "       [9.95543778e-01, 4.45630169e-03],\n",
       "       [9.96485591e-01, 3.51446471e-03],\n",
       "       [9.97222900e-01, 2.77714827e-03],\n",
       "       [9.97758090e-01, 2.24188645e-03],\n",
       "       [9.98116136e-01, 1.88387709e-03],\n",
       "       [9.98354554e-01, 1.64544478e-03],\n",
       "       [9.98484433e-01, 1.51560677e-03],\n",
       "       [9.98545289e-01, 1.45472551e-03],\n",
       "       [9.98569012e-01, 1.43096852e-03],\n",
       "       [9.98554885e-01, 1.44506188e-03],\n",
       "       [9.98505235e-01, 1.49474049e-03],\n",
       "       [9.98418570e-01, 1.58138550e-03],\n",
       "       [9.98264372e-01, 1.73563091e-03],\n",
       "       [9.98029768e-01, 1.97025598e-03],\n",
       "       [9.97785807e-01, 2.21416261e-03],\n",
       "       [9.97558117e-01, 2.44191242e-03],\n",
       "       [9.97396827e-01, 2.60312087e-03],\n",
       "       [9.97332454e-01, 2.66760658e-03],\n",
       "       [9.97361243e-01, 2.63870182e-03],\n",
       "       [9.97461438e-01, 2.53858254e-03],\n",
       "       [5.73748291e-01, 4.26251709e-01],\n",
       "       [6.44629419e-01, 3.55370581e-01],\n",
       "       [6.96785808e-01, 3.03214163e-01],\n",
       "       [7.43526697e-01, 2.56473273e-01],\n",
       "       [7.81935215e-01, 2.18064815e-01],\n",
       "       [8.31948459e-01, 1.68051526e-01],\n",
       "       [8.73573482e-01, 1.26426518e-01],\n",
       "       [9.08991396e-01, 9.10085663e-02],\n",
       "       [9.37572539e-01, 6.24274053e-02],\n",
       "       [9.62495983e-01, 3.75039876e-02],\n",
       "       [9.78382528e-01, 2.16174293e-02],\n",
       "       [9.86671507e-01, 1.33285541e-02],\n",
       "       [9.92030978e-01, 7.96907209e-03],\n",
       "       [9.94553685e-01, 5.44623891e-03],\n",
       "       [9.96082664e-01, 3.91734205e-03],\n",
       "       [9.97200131e-01, 2.79990025e-03],\n",
       "       [9.96403575e-01, 3.59647907e-03],\n",
       "       [9.95451987e-01, 4.54805000e-03],\n",
       "       [9.94094193e-01, 5.90576977e-03],\n",
       "       [9.78263080e-01, 2.17369087e-02],\n",
       "       [9.10462797e-01, 8.95372108e-02],\n",
       "       [8.62715781e-01, 1.37284219e-01],\n",
       "       [8.33551168e-01, 1.66448802e-01],\n",
       "       [8.63207996e-01, 1.36791945e-01],\n",
       "       [8.28881085e-01, 1.71118885e-01],\n",
       "       [8.47962320e-01, 1.52037710e-01],\n",
       "       [8.89203131e-01, 1.10796832e-01],\n",
       "       [8.91226888e-01, 1.08773105e-01],\n",
       "       [8.54784429e-01, 1.45215601e-01],\n",
       "       [7.32438743e-01, 2.67561257e-01],\n",
       "       [6.78042054e-01, 3.21957946e-01],\n",
       "       [6.48778856e-01, 3.51221114e-01],\n",
       "       [7.31044829e-01, 2.68955112e-01],\n",
       "       [8.15799475e-01, 1.84200555e-01],\n",
       "       [9.11920011e-01, 8.80799890e-02],\n",
       "       [9.16637301e-01, 8.33627507e-02],\n",
       "       [8.99429083e-01, 1.00570977e-01],\n",
       "       [8.72522533e-01, 1.27477407e-01],\n",
       "       [8.82722676e-01, 1.17277302e-01],\n",
       "       [9.02606487e-01, 9.73935500e-02],\n",
       "       [9.99366581e-01, 6.33393647e-04],\n",
       "       [9.99369800e-01, 6.30205614e-04],\n",
       "       [9.99372780e-01, 6.27199712e-04],\n",
       "       [9.99373138e-01, 6.26885390e-04],\n",
       "       [9.99374330e-01, 6.25639688e-04],\n",
       "       [9.99378324e-01, 6.21648389e-04],\n",
       "       [9.99385118e-01, 6.14848919e-04],\n",
       "       [9.99394059e-01, 6.05892914e-04],\n",
       "       [9.99401808e-01, 5.98211947e-04],\n",
       "       [9.99410629e-01, 5.89328993e-04],\n",
       "       [9.99420166e-01, 5.79869491e-04],\n",
       "       [9.99431789e-01, 5.68134652e-04],\n",
       "       [9.99442160e-01, 5.57767635e-04],\n",
       "       [9.99448001e-01, 5.51933073e-04],\n",
       "       [9.99449313e-01, 5.50716883e-04],\n",
       "       [9.99448240e-01, 5.51776902e-04],\n",
       "       [9.99443352e-01, 5.56617277e-04],\n",
       "       [9.99441087e-01, 5.58864383e-04],\n",
       "       [9.99442399e-01, 5.57610532e-04],\n",
       "       [9.99445975e-01, 5.54017141e-04],\n",
       "       [7.81820714e-01, 2.18179315e-01],\n",
       "       [9.09547448e-01, 9.04525742e-02],\n",
       "       [9.64635253e-01, 3.53647806e-02],\n",
       "       [9.81107354e-01, 1.88926980e-02],\n",
       "       [9.89313662e-01, 1.06863193e-02],\n",
       "       [9.95181501e-01, 4.81844041e-03],\n",
       "       [9.97540712e-01, 2.45927274e-03],\n",
       "       [9.97995973e-01, 2.00407999e-03],\n",
       "       [9.96869385e-01, 3.13067087e-03],\n",
       "       [9.93004143e-01, 6.99581392e-03],\n",
       "       [9.84575152e-01, 1.54248411e-02],\n",
       "       [9.72814977e-01, 2.71850545e-02],\n",
       "       [9.61238146e-01, 3.87618244e-02],\n",
       "       [9.65215504e-01, 3.47844772e-02],\n",
       "       [9.76376295e-01, 2.36237552e-02],\n",
       "       [9.85999763e-01, 1.40002286e-02],\n",
       "       [9.90896046e-01, 9.10391472e-03],\n",
       "       [9.93467867e-01, 6.53219363e-03],\n",
       "       [9.93380666e-01, 6.61932677e-03],\n",
       "       [9.73764598e-01, 2.62354128e-02],\n",
       "       [4.78677154e-01, 5.21322787e-01],\n",
       "       [1.80638134e-01, 8.19361866e-01],\n",
       "       [6.43849000e-02, 9.35615122e-01],\n",
       "       [4.33112606e-02, 9.56688821e-01],\n",
       "       [7.10011050e-02, 9.28998888e-01],\n",
       "       [2.01173007e-01, 7.98827052e-01],\n",
       "       [2.61719495e-01, 7.38280475e-01],\n",
       "       [2.69290239e-01, 7.30709791e-01],\n",
       "       [2.42254585e-01, 7.57745445e-01],\n",
       "       [2.05349609e-01, 7.94650435e-01],\n",
       "       [2.07554519e-01, 7.92445421e-01],\n",
       "       [1.57011762e-01, 8.42988253e-01],\n",
       "       [7.81078115e-02, 9.21892226e-01],\n",
       "       [5.07083014e-02, 9.49291706e-01],\n",
       "       [4.06943485e-02, 9.59305644e-01],\n",
       "       [3.83886844e-02, 9.61611331e-01],\n",
       "       [5.38894795e-02, 9.46110547e-01],\n",
       "       [7.92975277e-02, 9.20702517e-01],\n",
       "       [6.39293268e-02, 9.36070740e-01],\n",
       "       [5.58870994e-02, 9.44112837e-01],\n",
       "       [9.93903816e-01, 6.09614886e-03],\n",
       "       [9.93919492e-01, 6.08054781e-03],\n",
       "       [9.93951082e-01, 6.04896154e-03],\n",
       "       [9.93961215e-01, 6.03877194e-03],\n",
       "       [9.93981063e-01, 6.01887843e-03],\n",
       "       [9.93989229e-01, 6.01079362e-03],\n",
       "       [9.94016528e-01, 5.98342903e-03],\n",
       "       [9.94002044e-01, 5.99799305e-03],\n",
       "       [9.93967652e-01, 6.03234163e-03],\n",
       "       [9.93899703e-01, 6.10026158e-03],\n",
       "       [9.93809640e-01, 6.19035540e-03],\n",
       "       [9.93703187e-01, 6.29679905e-03],\n",
       "       [9.93633389e-01, 6.36658957e-03],\n",
       "       [9.93616223e-01, 6.38373988e-03],\n",
       "       [9.93627071e-01, 6.37291791e-03],\n",
       "       [9.93655562e-01, 6.34442037e-03],\n",
       "       [9.93691921e-01, 6.30806340e-03],\n",
       "       [9.93737817e-01, 6.26221811e-03],\n",
       "       [9.93736267e-01, 6.26373477e-03],\n",
       "       [9.93740201e-01, 6.25981810e-03]], dtype=float32)"
      ]
     },
     "execution_count": 690,
     "metadata": {},
     "output_type": "execute_result"
    }
   ],
   "source": [
    "Y_pred"
   ]
  },
  {
   "cell_type": "code",
   "execution_count": 691,
   "metadata": {},
   "outputs": [],
   "source": [
    "Y_pred_labels = np.argmax(Y_pred,axis=1)"
   ]
  },
  {
   "cell_type": "code",
   "execution_count": 692,
   "metadata": {},
   "outputs": [
    {
     "data": {
      "text/plain": [
       "array([0, 0, 0, 0, 0, 0, 0, 0, 0, 0, 0, 0, 0, 0, 0, 0, 0, 0, 0, 0, 0, 0,\n",
       "       0, 0, 0, 0, 0, 0, 0, 0, 0, 0, 0, 0, 0, 0, 0, 0, 0, 0, 0, 0, 0, 0,\n",
       "       0, 0, 0, 0, 0, 0, 0, 0, 0, 0, 0, 0, 0, 0, 0, 0, 0, 0, 0, 0, 0, 0,\n",
       "       0, 0, 0, 0, 0, 0, 0, 0, 0, 0, 0, 0, 0, 0, 0, 0, 1, 1, 0, 0, 0, 1,\n",
       "       1, 1, 1, 1, 1, 1, 1, 1, 1, 1, 1, 1, 0, 0, 0, 0, 0, 0, 0, 0, 0, 0,\n",
       "       0, 0, 0, 0, 0, 0, 0, 0, 0, 0, 0, 0, 0, 0, 0, 0, 0, 0, 0, 0, 0, 0,\n",
       "       0, 0, 0, 0, 0, 0, 0, 0, 0, 1, 1, 1, 1, 1, 1, 1, 1, 1, 1, 1, 1, 1,\n",
       "       1, 1, 1, 1, 1, 1, 0, 0, 0, 0, 0, 0, 0, 0, 0, 0, 0, 0, 0, 0, 0, 0,\n",
       "       0, 0, 0, 0, 0, 0, 0, 0, 0, 0, 0, 0, 0, 0, 0, 0, 0, 0, 0, 0, 0, 0,\n",
       "       0, 0, 0, 0, 1, 1, 1, 1, 1, 1, 1, 1, 1, 1, 1, 1, 1, 1, 1, 1, 1, 0,\n",
       "       0, 0, 0, 0, 0, 0, 0, 0, 0, 0, 0, 0, 0, 0, 0, 0, 0, 0, 0, 0, 0, 0,\n",
       "       0, 0, 0, 0, 0, 0, 0, 0, 0, 0, 0, 0, 0, 0, 0, 0, 0, 0, 0, 0, 0, 0,\n",
       "       0, 0, 0, 0, 0, 0, 0, 0, 0, 0, 0, 0, 0, 0, 0, 0, 0, 0, 0, 0, 0, 0,\n",
       "       0, 0, 0, 0, 0, 0, 0, 0, 0, 0, 0, 0, 0, 0, 0, 0, 0, 0, 0, 0, 0, 0,\n",
       "       0, 0, 0, 0, 0, 0, 0, 0, 0, 0, 0, 0, 1, 1, 1, 1, 1, 1, 1, 1, 1, 1,\n",
       "       1, 1, 1, 1, 1, 1, 1, 1, 1, 1, 0, 0, 0, 0, 0, 0, 0, 0, 0, 0, 0, 0,\n",
       "       0, 0, 0, 0, 0, 0, 0, 0], dtype=int64)"
      ]
     },
     "execution_count": 692,
     "metadata": {},
     "output_type": "execute_result"
    }
   ],
   "source": [
    "Y_pred_labels"
   ]
  },
  {
   "cell_type": "code",
   "execution_count": null,
   "metadata": {},
   "outputs": [],
   "source": []
  },
  {
   "cell_type": "code",
   "execution_count": 718,
   "metadata": {},
   "outputs": [
    {
     "name": "stdout",
     "output_type": "stream",
     "text": [
      "Accuracy:\t87.50000%\n",
      "\n",
      "\n",
      "\n",
      "The Classification Report is\n",
      "              precision    recall  f1-score   support\n",
      "\n",
      "           0       0.85      1.00      0.92       246\n",
      "           1       0.99      0.61      0.76       114\n",
      "\n",
      "    accuracy                           0.88       360\n",
      "   macro avg       0.92      0.80      0.84       360\n",
      "weighted avg       0.89      0.88      0.87       360\n",
      "\n",
      "\n",
      "\n",
      "\n"
     ]
    },
    {
     "data": {
      "image/png": "[encoded data removed]",
      "text/plain": [
       "<Figure size 432x288 with 1 Axes>"
      ]
     },
     "metadata": {
      "needs_background": "light"
     },
     "output_type": "display_data"
    }
   ],
   "source": [
    "from sklearn import metrics\n",
    "from sklearn.metrics import classification_report, confusion_matrix  \n",
    "from sklearn.metrics import accuracy_score\n",
    "import seaborn as sns\n",
    "import matplotlib.pyplot as plt\n",
    "\n",
    "print('Accuracy:\\t{:0.5f}%'.format(accuracy_score(test_Y,Y_pred_labels)*100))\n",
    "print(\"\\n\\n\")\n",
    "print(\"The Classification Report is\")\n",
    "print(classification_report(test_Y, Y_pred_labels))\n",
    "print(\"\\n\\n\")\n",
    "# print(\"The Confusion Matrix is\")\n",
    "matrix = confusion_matrix(test_Y, Y_pred_labels)\n",
    "plot1 = sns.heatmap(matrix,annot=True,cbar=False,fmt='d')  \n",
    "plt.ylabel('True Value')  \n",
    "plt.xlabel('Predicted Value')  \n",
    "plt.title('Simple LSTM Confusion Matrix')  \n",
    "plt.show()"
   ]
  },
  {
   "cell_type": "code",
   "execution_count": null,
   "metadata": {},
   "outputs": [],
   "source": []
  },
  {
   "cell_type": "code",
   "execution_count": null,
   "metadata": {},
   "outputs": [],
   "source": []
  },
  {
   "cell_type": "code",
   "execution_count": 711,
   "metadata": {},
   "outputs": [
    {
     "name": "stdout",
     "output_type": "stream",
     "text": [
      "Model: \"sequential_22\"\n",
      "_________________________________________________________________\n",
      "Layer (type)                 Output Shape              Param #   \n",
      "=================================================================\n",
      "dense_42 (Dense)             (None, 20, 32)            128       \n",
      "_________________________________________________________________\n",
      "batch_normalization_8 (Batch (None, 20, 32)            128       \n",
      "_________________________________________________________________\n",
      "dropout_37 (Dropout)         (None, 20, 32)            0         \n",
      "_________________________________________________________________\n",
      "lstm_29 (LSTM)               (None, 20, 32)            8320      \n",
      "_________________________________________________________________\n",
      "dropout_38 (Dropout)         (None, 20, 32)            0         \n",
      "_________________________________________________________________\n",
      "lstm_30 (LSTM)               (None, 32)                8320      \n",
      "_________________________________________________________________\n",
      "dropout_39 (Dropout)         (None, 32)                0         \n",
      "_________________________________________________________________\n",
      "dense_43 (Dense)             (None, 2)                 66        \n",
      "=================================================================\n",
      "Total params: 16,962\n",
      "Trainable params: 16,898\n",
      "Non-trainable params: 64\n",
      "_________________________________________________________________\n"
     ]
    }
   ],
   "source": [
    "model = Sequential()\n",
    "model.add(Dense(32, activation='relu', input_shape=(X_train.shape[1],X_train.shape[2])))\n",
    "model.add(BatchNormalization())\n",
    "model.add(Dropout(0.2))\n",
    "model.add(LSTM(32, return_sequences=True))\n",
    "\n",
    "model.add(Dropout(0.2))\n",
    "model.add(LSTM(32, return_sequences=False))\n",
    "\n",
    "model.add(Dropout(0.2))\n",
    "model.add(Dense(y_train.shape[1], activation='softmax'))\n",
    "\n",
    "model.compile(loss='binary_crossentropy', optimizer='adam', metrics=['accuracy'])\n",
    "model.summary()"
   ]
  },
  {
   "cell_type": "code",
   "execution_count": 712,
   "metadata": {},
   "outputs": [
    {
     "name": "stdout",
     "output_type": "stream",
     "text": [
      "Epoch 1/100\n",
      "30/30 - 1s - loss: 0.4758 - accuracy: 0.7683 - val_loss: 0.4737 - val_accuracy: 0.8571\n",
      "Epoch 2/100\n",
      "30/30 - 0s - loss: 0.3214 - accuracy: 0.8603 - val_loss: 0.4132 - val_accuracy: 0.8476\n",
      "Epoch 3/100\n",
      "30/30 - 0s - loss: 0.2789 - accuracy: 0.8751 - val_loss: 0.3378 - val_accuracy: 0.8381\n",
      "Epoch 4/100\n",
      "30/30 - 0s - loss: 0.2606 - accuracy: 0.8815 - val_loss: 0.3064 - val_accuracy: 0.8667\n",
      "Epoch 5/100\n",
      "30/30 - 0s - loss: 0.2096 - accuracy: 0.9101 - val_loss: 0.3108 - val_accuracy: 0.8476\n",
      "Epoch 6/100\n",
      "30/30 - 0s - loss: 0.1834 - accuracy: 0.9280 - val_loss: 0.3481 - val_accuracy: 0.8286\n",
      "Epoch 7/100\n",
      "30/30 - 0s - loss: 0.1659 - accuracy: 0.9302 - val_loss: 0.3852 - val_accuracy: 0.8381\n",
      "Epoch 00007: early stopping\n"
     ]
    }
   ],
   "source": [
    "from tensorflow.keras.callbacks import EarlyStopping\n",
    "\n",
    "early_stop = EarlyStopping(monitor='val_loss', mode='min', verbose=1, patience=3)\n",
    "\n",
    "history_2 = model.fit(X_train, y_train, epochs=100, batch_size=32, verbose=2, validation_split=0.1, callbacks=[early_stop])\n",
    "\n",
    "\n",
    "\n",
    "# model.fit(X_train, y_train, epochs=20, batch_size=32, verbose=2)"
   ]
  },
  {
   "cell_type": "code",
   "execution_count": 713,
   "metadata": {},
   "outputs": [
    {
     "data": {
      "image/png": "[encoded data removed]",
      "text/plain": [
       "<Figure size 432x288 with 1 Axes>"
      ]
     },
     "metadata": {
      "needs_background": "light"
     },
     "output_type": "display_data"
    }
   ],
   "source": [
    "from matplotlib import pyplot\n",
    "\n",
    "pyplot.plot(history_2.history['loss'], label='train')\n",
    "pyplot.plot(history_2.history['val_loss'], label='val')\n",
    "pyplot.legend()\n",
    "pyplot.show()"
   ]
  },
  {
   "cell_type": "code",
   "execution_count": 714,
   "metadata": {},
   "outputs": [],
   "source": [
    "Y_pred_mod = model.predict(X_test)"
   ]
  },
  {
   "cell_type": "code",
   "execution_count": 715,
   "metadata": {},
   "outputs": [],
   "source": [
    "Y_pred_labels_mod = np.argmax(Y_pred_mod,axis=1)"
   ]
  },
  {
   "cell_type": "code",
   "execution_count": 716,
   "metadata": {},
   "outputs": [
    {
     "data": {
      "text/plain": [
       "array([0, 0, 0, 0, 0, 0, 0, 0, 0, 0, 0, 0, 0, 0, 0, 0, 0, 0, 0, 0, 0, 0,\n",
       "       0, 0, 0, 0, 0, 0, 0, 0, 0, 0, 0, 0, 0, 0, 0, 0, 0, 0, 0, 0, 0, 0,\n",
       "       0, 0, 0, 0, 0, 0, 0, 0, 0, 0, 0, 0, 0, 0, 0, 0, 0, 0, 0, 0, 0, 0,\n",
       "       0, 0, 0, 0, 0, 0, 0, 0, 0, 0, 0, 0, 0, 0, 0, 0, 0, 0, 0, 0, 1, 1,\n",
       "       1, 1, 1, 1, 1, 1, 1, 1, 1, 1, 1, 1, 0, 0, 0, 0, 0, 0, 0, 0, 0, 0,\n",
       "       0, 0, 0, 0, 0, 0, 0, 0, 0, 0, 0, 0, 0, 0, 0, 0, 0, 0, 0, 0, 0, 0,\n",
       "       0, 0, 0, 0, 0, 0, 0, 0, 0, 1, 1, 1, 1, 1, 1, 1, 1, 1, 1, 1, 1, 1,\n",
       "       1, 1, 1, 1, 1, 1, 0, 0, 0, 0, 0, 0, 0, 0, 0, 0, 0, 0, 0, 0, 0, 0,\n",
       "       0, 0, 0, 0, 0, 0, 0, 0, 0, 0, 0, 0, 0, 0, 0, 0, 0, 0, 0, 0, 0, 0,\n",
       "       0, 0, 0, 0, 1, 1, 1, 1, 1, 1, 1, 1, 1, 1, 1, 1, 1, 1, 1, 1, 1, 1,\n",
       "       0, 0, 0, 0, 0, 0, 0, 0, 0, 0, 0, 0, 0, 0, 0, 0, 0, 0, 0, 0, 0, 0,\n",
       "       0, 0, 0, 0, 0, 0, 0, 0, 0, 0, 0, 0, 0, 0, 0, 0, 0, 0, 0, 0, 0, 0,\n",
       "       0, 1, 1, 1, 1, 1, 1, 1, 1, 1, 1, 1, 1, 1, 1, 1, 0, 0, 0, 0, 0, 0,\n",
       "       0, 0, 0, 0, 0, 0, 0, 0, 0, 0, 0, 0, 0, 0, 1, 1, 1, 1, 1, 1, 0, 0,\n",
       "       0, 0, 0, 0, 0, 0, 0, 0, 0, 0, 0, 0, 0, 0, 1, 1, 1, 1, 1, 1, 1, 1,\n",
       "       1, 1, 1, 1, 1, 1, 1, 1, 1, 1, 0, 0, 0, 0, 0, 0, 0, 0, 0, 0, 0, 0,\n",
       "       0, 0, 0, 0, 0, 0, 0, 0], dtype=int64)"
      ]
     },
     "execution_count": 716,
     "metadata": {},
     "output_type": "execute_result"
    }
   ],
   "source": [
    "Y_pred_labels_mod"
   ]
  },
  {
   "cell_type": "code",
   "execution_count": 719,
   "metadata": {},
   "outputs": [
    {
     "name": "stdout",
     "output_type": "stream",
     "text": [
      "Accuracy:\t90.00000%\n",
      "\n",
      "\n",
      "\n",
      "The Classification Report is\n",
      "              precision    recall  f1-score   support\n",
      "\n",
      "           0       0.89      0.98      0.93       246\n",
      "           1       0.93      0.74      0.82       114\n",
      "\n",
      "    accuracy                           0.90       360\n",
      "   macro avg       0.91      0.86      0.88       360\n",
      "weighted avg       0.90      0.90      0.90       360\n",
      "\n",
      "\n",
      "\n",
      "\n"
     ]
    },
    {
     "data": {
      "image/png": "[encoded data removed]",
      "text/plain": [
       "<Figure size 432x288 with 1 Axes>"
      ]
     },
     "metadata": {
      "needs_background": "light"
     },
     "output_type": "display_data"
    }
   ],
   "source": [
    "from sklearn import metrics\n",
    "from sklearn.metrics import classification_report, confusion_matrix  \n",
    "from sklearn.metrics import accuracy_score\n",
    "import seaborn as sns\n",
    "import matplotlib.pyplot as plt\n",
    "\n",
    "print('Accuracy:\\t{:0.5f}%'.format(accuracy_score(test_Y,Y_pred_labels_mod)*100))\n",
    "print(\"\\n\\n\")\n",
    "print(\"The Classification Report is\")\n",
    "print(classification_report(test_Y, Y_pred_labels_mod))\n",
    "print(\"\\n\\n\")\n",
    "# print(\"The Confusion Matrix is\")\n",
    "matrix = confusion_matrix(test_Y, Y_pred_labels_mod)\n",
    "plot1 = sns.heatmap(matrix,annot=True,cbar=False,fmt='d')  \n",
    "plt.ylabel('True Value')  \n",
    "plt.xlabel('Predicted Value')  \n",
    "plt.title('Double LSTM Confusion Matrix')  \n",
    "plt.show()"
   ]
  },
  {
   "cell_type": "code",
   "execution_count": null,
   "metadata": {},
   "outputs": [],
   "source": []
  },
  {
   "cell_type": "code",
   "execution_count": null,
   "metadata": {},
   "outputs": [],
   "source": []
  },
  {
   "cell_type": "code",
   "execution_count": null,
   "metadata": {},
   "outputs": [],
   "source": []
  },
  {
   "cell_type": "code",
   "execution_count": null,
   "metadata": {},
   "outputs": [],
   "source": []
  },
  {
   "cell_type": "code",
   "execution_count": null,
   "metadata": {},
   "outputs": [],
   "source": []
  },
  {
   "cell_type": "code",
   "execution_count": null,
   "metadata": {},
   "outputs": [],
   "source": []
  },
  {
   "cell_type": "code",
   "execution_count": null,
   "metadata": {},
   "outputs": [],
   "source": []
  },
  {
   "cell_type": "code",
   "execution_count": null,
   "metadata": {},
   "outputs": [],
   "source": []
  },
  {
   "cell_type": "code",
   "execution_count": null,
   "metadata": {},
   "outputs": [],
   "source": []
  }
 ],
 "metadata": {
  "kernelspec": {
   "display_name": "Python 3",
   "language": "python",
   "name": "python3"
  },
  "language_info": {
   "codemirror_mode": {
    "name": "ipython",
    "version": 3
   },
   "file_extension": ".py",
   "mimetype": "text/x-python",
   "name": "python",
   "nbconvert_exporter": "python",
   "pygments_lexer": "ipython3",
   "version": "3.7.8"
  }
 },
 "nbformat": 4,
 "nbformat_minor": 2
}
